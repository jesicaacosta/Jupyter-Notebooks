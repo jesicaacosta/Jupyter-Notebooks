{
  "nbformat": 4,
  "nbformat_minor": 0,
  "metadata": {
    "colab": {
      "provenance": []
    },
    "kernelspec": {
      "name": "python3",
      "display_name": "Python 3"
    },
    "language_info": {
      "name": "python"
    }
  },
  "cells": [
    {
      "cell_type": "markdown",
      "source": [
        "# **Estructura if en Python**"
      ],
      "metadata": {
        "id": "jg_FSrVNuEeF"
      }
    },
    {
      "cell_type": "code",
      "execution_count": null,
      "metadata": {
        "id": "x96nh-Xlt9jH"
      },
      "outputs": [],
      "source": [
        "# Meta diaria de ejercicio en minutos\n",
        "meta_diaria = 60  # minutos\n",
        "ejercicio_realizado = 75  # minutos realizados por el usuario\n",
        "\n",
        "# Condición para comprobar si se ha alcanzado la meta\n",
        "if ejercicio_realizado >= meta_diaria:\n",
        "    print(\"¡Felicidades! Has alcanzado tu meta diaria de ejercicio.\")\n",
        "else:\n",
        "    print(\"Sigue adelante, te faltan algunos minutos para llegar a la meta.\")"
      ]
    },
    {
      "cell_type": "markdown",
      "source": [
        "# **Ejemplo detallado: Sistema de Recomendación de Dieta para el Gimnasio**"
      ],
      "metadata": {
        "id": "anJszx95uQZt"
      }
    },
    {
      "cell_type": "code",
      "source": [
        "# Información del usuario\n",
        "edad = 25  # Edad del usuario\n",
        "nivel_actividad = \"moderado\"  # Nivel de actividad física: 'bajo', 'moderado', 'alto'\n",
        "objetivo = \"ganar masa muscular\"  # Objetivo: 'perder peso', 'ganar masa muscular', 'mantenerse en forma'\n",
        "\n",
        "# Recomendación basada en la edad\n",
        "if edad < 18:\n",
        "    print(\"Recomendación: Sigue una dieta equilibrada para jóvenes y consulta a un nutricionista.\")\n",
        "elif 18 <= edad < 30:\n",
        "    print(\"Recomendación: Asegúrate de obtener suficientes proteínas para apoyar el crecimiento muscular.\")\n",
        "else:\n",
        "    print(\"Recomendación: Adopta una dieta rica en fibra y ajusta tu ingesta calórica según tu nivel de actividad.\")\n",
        "\n",
        "# Recomendación adicional según el nivel de actividad física\n",
        "if nivel_actividad == \"bajo\":\n",
        "    print(\"Consejo: Aumenta tu nivel de actividad física, intenta caminar o hacer ejercicio ligero diariamente.\")\n",
        "elif nivel_actividad == \"moderado\":\n",
        "    print(\"Consejo: Mantén un equilibrio entre el ejercicio cardiovascular y el entrenamiento de fuerza.\")\n",
        "else:\n",
        "    print(\"Consejo: Asegúrate de descansar adecuadamente para permitir la recuperación muscular.\")\n",
        "\n",
        "# Recomendación según el objetivo del usuario\n",
        "if objetivo == \"perder peso\":\n",
        "    print(\"Dieta recomendada: Sigue una dieta baja en carbohidratos y rica en proteínas para perder grasa de manera saludable.\")\n",
        "elif objetivo == \"ganar masa muscular\":\n",
        "    print(\"Dieta recomendada: Aumenta tu ingesta calórica y asegúrate de consumir suficientes proteínas.\")\n",
        "else:\n",
        "    print(\"Dieta recomendada: Mantén una dieta equilibrada, con la cantidad adecuada de proteínas, carbohidratos y grasas.\")\n"
      ],
      "metadata": {
        "id": "isQVzw6PuVE1"
      },
      "execution_count": null,
      "outputs": []
    },
    {
      "cell_type": "markdown",
      "source": [
        "# **Ejemplo aplicado a una actividad de la vida real: Evaluación del IMC (Índice de Masa Corporal)**"
      ],
      "metadata": {
        "id": "zANsw2A5wFxJ"
      }
    },
    {
      "cell_type": "code",
      "source": [
        "# Cálculo del IMC (Índice de Masa Corporal)\n",
        "peso = 70  # en kilogramos\n",
        "altura = 1.75  # en metros\n",
        "\n",
        "# Fórmula del IMC\n",
        "imc = peso / (altura ** 2)\n",
        "\n",
        "# Evaluar el rango del IMC usando 'and'\n",
        "if imc >= 18.5 and imc < 24.9:\n",
        "    print(f\"Tu IMC es {imc:.2f}. Estás en el rango saludable.\")\n",
        "elif imc >= 24.9 and imc < 29.9:\n",
        "    print(f\"Tu IMC es {imc:.2f}. Estás en el rango de sobrepeso.\")\n",
        "elif imc >= 29.9:\n",
        "    print(f\"Tu IMC es {imc:.2f}. Estás en el rango de obesidad.\")\n",
        "else:\n",
        "    print(f\"Tu IMC es {imc:.2f}. Estás por debajo del peso saludable.\")\n"
      ],
      "metadata": {
        "id": "o0wiAViwwHtE"
      },
      "execution_count": null,
      "outputs": []
    },
    {
      "cell_type": "markdown",
      "source": [
        "# **Ejemplo aplicado a una actividad de la vida real: Sistema de Aprobación de Exámenes**"
      ],
      "metadata": {
        "id": "a0m0szvvx8tk"
      }
    },
    {
      "cell_type": "code",
      "source": [
        "# Calificación del estudiante\n",
        "calificacion = 55  # Cambia este valor para probar diferentes resultados\n",
        "\n",
        "# Condición para aprobar o reprobar\n",
        "if calificacion >= 60:\n",
        "    print(f\"Calificación: {calificacion}. ¡Has aprobado el examen!\")\n",
        "else:\n",
        "    print(f\"Calificación: {calificacion}. Lamentablemente, has reprobado el examen.\")\n"
      ],
      "metadata": {
        "id": "qiVBvZ62yA4G"
      },
      "execution_count": null,
      "outputs": []
    },
    {
      "cell_type": "markdown",
      "source": [
        "# **Código con Error de Indentación:**"
      ],
      "metadata": {
        "id": "wKAGUZYe3tsR"
      }
    },
    {
      "cell_type": "code",
      "source": [
        "# Código con error de indentación\n",
        "value_1 = 10\n",
        "value_2 = 20\n",
        "value_3 = 25\n",
        "\n",
        "if (value_1 < value_3 and value_3 < value_2):\n",
        "print(\"Se encuentra en el rango\")  # Falta la indentación en esta línea\n",
        "else:\n",
        "print(\"No se encuentra en el rango\")  # Falta la indentación en esta línea\n"
      ],
      "metadata": {
        "id": "7-mo3eJ73uXN"
      },
      "execution_count": null,
      "outputs": []
    },
    {
      "cell_type": "markdown",
      "source": [
        "# **Código Corregido:**"
      ],
      "metadata": {
        "id": "-8CzZ2F5_jxJ"
      }
    },
    {
      "cell_type": "code",
      "source": [
        "# Código corregido con la indentación adecuada\n",
        "value_1 = 10\n",
        "value_2 = 20\n",
        "value_3 = 25\n",
        "\n",
        "if (value_1 < value_3 and value_3 < value_2):\n",
        "    print(\"Se encuentra en el rango\")  # Ahora correctamente indentado\n",
        "else:\n",
        "    print(\"No se encuentra en el rango\")  # Ahora correctamente indentado\n"
      ],
      "metadata": {
        "id": "ygSM83ir_mNg"
      },
      "execution_count": null,
      "outputs": []
    },
    {
      "cell_type": "markdown",
      "source": [
        "# **Sistema de Evaluación de Rendimiento Estudiantil**\n",
        "\n",
        "En este ejemplo más avanzado se puede mostrar cómo se puede utilizar elif para evaluar el rendimiento de un estudiante en base a su calificación."
      ],
      "metadata": {
        "id": "vihVIHfBCYd5"
      }
    },
    {
      "cell_type": "code",
      "source": [
        "# Calificación del estudiante\n",
        "calificacion = 85  # Cambia este valor para probar diferentes resultados\n",
        "\n",
        "# Evaluar el rendimiento del estudiante usando condicionales encadenados\n",
        "if calificacion >= 90:\n",
        "    print(f\"Calificación: {calificacion}. Rendimiento: Excelente.\")\n",
        "elif calificacion >= 80:\n",
        "    print(f\"Calificación: {calificacion}. Rendimiento: Muy bueno.\")\n",
        "elif calificacion >= 70:\n",
        "    print(f\"Calificación: {calificacion}. Rendimiento: Bueno.\")\n",
        "elif calificacion >= 60:\n",
        "    print(f\"Calificación: {calificacion}. Rendimiento: Aprobado.\")\n",
        "else:\n",
        "    print(f\"Calificación: {calificacion}. Rendimiento: Reprobado.\")\n"
      ],
      "metadata": {
        "id": "Ah2ImAs1Cac7"
      },
      "execution_count": null,
      "outputs": []
    },
    {
      "cell_type": "markdown",
      "source": [
        "# **Sistema de Tarifas de Envío Basado en el Peso del Paquete**"
      ],
      "metadata": {
        "id": "pbFY45P6DNlI"
      }
    },
    {
      "cell_type": "code",
      "source": [
        "# Peso del paquete en kilogramos\n",
        "peso_paquete = 8  # Cambia este valor para probar diferentes resultados\n",
        "\n",
        "# Evaluar el costo de envío basado en el peso usando condicionales encadenados\n",
        "if peso_paquete <= 1:\n",
        "    print(f\"Peso: {peso_paquete} kg. Costo de envío: $5.\")\n",
        "elif peso_paquete <= 5:\n",
        "    print(f\"Peso: {peso_paquete} kg. Costo de envío: $10.\")\n",
        "elif peso_paquete <= 10:\n",
        "    print(f\"Peso: {peso_paquete} kg. Costo de envío: $15.\")\n",
        "else:\n",
        "    print(f\"Peso: {peso_paquete} kg. Costo de envío: $20.\")\n"
      ],
      "metadata": {
        "id": "lVy2asSYDR_c"
      },
      "execution_count": null,
      "outputs": []
    },
    {
      "cell_type": "markdown",
      "source": [
        "# **Ejemplo aplicado a una actividad de la vida real: Sistema de Evaluación de Desempeño de Empleados**"
      ],
      "metadata": {
        "id": "g_ANdjjXFbvm"
      }
    },
    {
      "cell_type": "code",
      "source": [
        "# Datos del empleado\n",
        "calificacion_desempeno = 85  # Calificación del empleado (0 a 100)\n",
        "anios_en_empresa = 3  # Número de años que lleva en la empresa\n",
        "\n",
        "# Evaluar el desempeño del empleado usando estructuras anidadas\n",
        "if calificacion_desempeno >= 80:\n",
        "    if anios_en_empresa >= 2:\n",
        "        print(\"Empleado con alto desempeño y categoría: Senior.\")\n",
        "    else:\n",
        "        print(\"Empleado con alto desempeño y categoría: En Desarrollo.\")\n",
        "else:\n",
        "    if calificacion_desempeno >= 50:\n",
        "        print(\"Empleado con rendimiento satisfactorio.\")\n",
        "    else:\n",
        "        print(\"Empleado con bajo rendimiento.\")"
      ],
      "metadata": {
        "id": "2shF0QoBFZhD"
      },
      "execution_count": null,
      "outputs": []
    },
    {
      "cell_type": "markdown",
      "source": [
        "# **Sistema de Verificación de Acceso a Eventos**"
      ],
      "metadata": {
        "id": "5LIQ3ufTNi2y"
      }
    },
    {
      "cell_type": "code",
      "source": [
        "# Datos del usuario\n",
        "edad = 22  # Edad del usuario\n",
        "es_miembro = True  # ¿Es miembro del club?\n",
        "tiene_entrada = True  # ¿Tiene entrada para el evento?\n",
        "\n",
        "# Verificar si el usuario puede acceder al evento usando estructuras anidadas\n",
        "if edad >= 18:\n",
        "    if tiene_entrada:\n",
        "        if es_miembro:\n",
        "            print(\"Acceso concedido: Miembro con entrada.\")\n",
        "        else:\n",
        "            print(\"Acceso concedido: No miembro con entrada.\")\n",
        "    else:\n",
        "        print(\"Acceso denegado: No tiene entrada.\")\n",
        "else:\n",
        "    print(\"Acceso denegado: Menor de edad.\")\n"
      ],
      "metadata": {
        "colab": {
          "base_uri": "https://localhost:8080/"
        },
        "id": "t8t0PSMvNmfX",
        "outputId": "2c30f821-6e6c-4b63-e5a5-aa14d62d3bae"
      },
      "execution_count": 1,
      "outputs": [
        {
          "output_type": "stream",
          "name": "stdout",
          "text": [
            "Acceso concedido: Miembro con entrada.\n"
          ]
        }
      ]
    }
  ]
}